{
 "cells": [
  {
   "cell_type": "markdown",
   "metadata": {},
   "source": [
    "# Projeto Final - Fundamentos de Data Science I - Naufrágio do Titanic"
   ]
  },
  {
   "cell_type": "markdown",
   "metadata": {},
   "source": [
    "Para o projeto final, será realizada uma análise a partir de documento disponibilizado acerca dos sobreviventes do návio Titanic. Neste trabalho, utilizaremos o Pandas e NumPy para responder às perguntas que mais interessam e criar um relatório compartilhando com as respostas. "
   ]
  },
  {
   "cell_type": "markdown",
   "metadata": {},
   "source": [
    "## 1. Bibliotecas"
   ]
  },
  {
   "cell_type": "code",
   "execution_count": 20,
   "metadata": {},
   "outputs": [],
   "source": [
    "# Comando para importação do pandas, que será utilizado para melhor manusear os dados advindos do arquivo CSV.\n",
    "import pandas as pd\n",
    "# Importação do numpy para integração eficiente na análise dos dados.\n",
    "import numpy as np\n",
    "# Importação das bibliotecas matplotlib e seaborn, estes encarregados de transpor os dados colhidos em gráficos.\n",
    "import matplotlib.pyplot as plt\n",
    "import seaborn as sns\n",
    "import warnings\n",
    "warnings.filterwarnings('ignore')\n",
    "\n",
    "%matplotlib inline"
   ]
  },
  {
   "cell_type": "markdown",
   "metadata": {},
   "source": [
    "## 2. Importação e avaliação dos dados\n",
    "Utilizar-se-á o pandas para importação dos dados consignados no arquivo CSV. Desta forma, é possível aferir, de plano, quais são os conjuntos de dados consignados no dataframe, estes objetos das perguntas a serem formuladas no processo conseguinte. Relevante, ainda, aferir acerca de dados gerais (estatísticos) que auxiliarão neste processo."
   ]
  },
  {
   "cell_type": "code",
   "execution_count": 19,
   "metadata": {},
   "outputs": [
    {
     "data": {
      "text/html": [
       "<div>\n",
       "<style scoped>\n",
       "    .dataframe tbody tr th:only-of-type {\n",
       "        vertical-align: middle;\n",
       "    }\n",
       "\n",
       "    .dataframe tbody tr th {\n",
       "        vertical-align: top;\n",
       "    }\n",
       "\n",
       "    .dataframe thead th {\n",
       "        text-align: right;\n",
       "    }\n",
       "</style>\n",
       "<table border=\"1\" class=\"dataframe\">\n",
       "  <thead>\n",
       "    <tr style=\"text-align: right;\">\n",
       "      <th></th>\n",
       "      <th>PassengerId</th>\n",
       "      <th>Survived</th>\n",
       "      <th>Pclass</th>\n",
       "      <th>Name</th>\n",
       "      <th>Sex</th>\n",
       "      <th>Age</th>\n",
       "      <th>SibSp</th>\n",
       "      <th>Parch</th>\n",
       "      <th>Ticket</th>\n",
       "      <th>Fare</th>\n",
       "      <th>Cabin</th>\n",
       "      <th>Embarked</th>\n",
       "    </tr>\n",
       "  </thead>\n",
       "  <tbody>\n",
       "    <tr>\n",
       "      <th>0</th>\n",
       "      <td>1</td>\n",
       "      <td>0</td>\n",
       "      <td>3</td>\n",
       "      <td>Braund, Mr. Owen Harris</td>\n",
       "      <td>male</td>\n",
       "      <td>22.0</td>\n",
       "      <td>1</td>\n",
       "      <td>0</td>\n",
       "      <td>A/5 21171</td>\n",
       "      <td>7.2500</td>\n",
       "      <td>NaN</td>\n",
       "      <td>S</td>\n",
       "    </tr>\n",
       "    <tr>\n",
       "      <th>1</th>\n",
       "      <td>2</td>\n",
       "      <td>1</td>\n",
       "      <td>1</td>\n",
       "      <td>Cumings, Mrs. John Bradley (Florence Briggs Th...</td>\n",
       "      <td>female</td>\n",
       "      <td>38.0</td>\n",
       "      <td>1</td>\n",
       "      <td>0</td>\n",
       "      <td>PC 17599</td>\n",
       "      <td>71.2833</td>\n",
       "      <td>C85</td>\n",
       "      <td>C</td>\n",
       "    </tr>\n",
       "    <tr>\n",
       "      <th>2</th>\n",
       "      <td>3</td>\n",
       "      <td>1</td>\n",
       "      <td>3</td>\n",
       "      <td>Heikkinen, Miss. Laina</td>\n",
       "      <td>female</td>\n",
       "      <td>26.0</td>\n",
       "      <td>0</td>\n",
       "      <td>0</td>\n",
       "      <td>STON/O2. 3101282</td>\n",
       "      <td>7.9250</td>\n",
       "      <td>NaN</td>\n",
       "      <td>S</td>\n",
       "    </tr>\n",
       "    <tr>\n",
       "      <th>3</th>\n",
       "      <td>4</td>\n",
       "      <td>1</td>\n",
       "      <td>1</td>\n",
       "      <td>Futrelle, Mrs. Jacques Heath (Lily May Peel)</td>\n",
       "      <td>female</td>\n",
       "      <td>35.0</td>\n",
       "      <td>1</td>\n",
       "      <td>0</td>\n",
       "      <td>113803</td>\n",
       "      <td>53.1000</td>\n",
       "      <td>C123</td>\n",
       "      <td>S</td>\n",
       "    </tr>\n",
       "    <tr>\n",
       "      <th>4</th>\n",
       "      <td>5</td>\n",
       "      <td>0</td>\n",
       "      <td>3</td>\n",
       "      <td>Allen, Mr. William Henry</td>\n",
       "      <td>male</td>\n",
       "      <td>35.0</td>\n",
       "      <td>0</td>\n",
       "      <td>0</td>\n",
       "      <td>373450</td>\n",
       "      <td>8.0500</td>\n",
       "      <td>NaN</td>\n",
       "      <td>S</td>\n",
       "    </tr>\n",
       "  </tbody>\n",
       "</table>\n",
       "</div>"
      ],
      "text/plain": [
       "   PassengerId  Survived  Pclass  \\\n",
       "0            1         0       3   \n",
       "1            2         1       1   \n",
       "2            3         1       3   \n",
       "3            4         1       1   \n",
       "4            5         0       3   \n",
       "\n",
       "                                                Name     Sex   Age  SibSp  \\\n",
       "0                            Braund, Mr. Owen Harris    male  22.0      1   \n",
       "1  Cumings, Mrs. John Bradley (Florence Briggs Th...  female  38.0      1   \n",
       "2                             Heikkinen, Miss. Laina  female  26.0      0   \n",
       "3       Futrelle, Mrs. Jacques Heath (Lily May Peel)  female  35.0      1   \n",
       "4                           Allen, Mr. William Henry    male  35.0      0   \n",
       "\n",
       "   Parch            Ticket     Fare Cabin Embarked  \n",
       "0      0         A/5 21171   7.2500   NaN        S  \n",
       "1      0          PC 17599  71.2833   C85        C  \n",
       "2      0  STON/O2. 3101282   7.9250   NaN        S  \n",
       "3      0            113803  53.1000  C123        S  \n",
       "4      0            373450   8.0500   NaN        S  "
      ]
     },
     "execution_count": 19,
     "metadata": {},
     "output_type": "execute_result"
    }
   ],
   "source": [
    "#Importação do dataframe e avaliação dos dados\n",
    "df = pd.read_csv('titanic-data-6.csv')\n",
    "df.head()"
   ]
  },
  {
   "cell_type": "code",
   "execution_count": 21,
   "metadata": {},
   "outputs": [
    {
     "data": {
      "text/html": [
       "<div>\n",
       "<style scoped>\n",
       "    .dataframe tbody tr th:only-of-type {\n",
       "        vertical-align: middle;\n",
       "    }\n",
       "\n",
       "    .dataframe tbody tr th {\n",
       "        vertical-align: top;\n",
       "    }\n",
       "\n",
       "    .dataframe thead th {\n",
       "        text-align: right;\n",
       "    }\n",
       "</style>\n",
       "<table border=\"1\" class=\"dataframe\">\n",
       "  <thead>\n",
       "    <tr style=\"text-align: right;\">\n",
       "      <th></th>\n",
       "      <th>PassengerId</th>\n",
       "      <th>Survived</th>\n",
       "      <th>Pclass</th>\n",
       "      <th>Age</th>\n",
       "      <th>SibSp</th>\n",
       "      <th>Parch</th>\n",
       "      <th>Fare</th>\n",
       "    </tr>\n",
       "  </thead>\n",
       "  <tbody>\n",
       "    <tr>\n",
       "      <th>count</th>\n",
       "      <td>891.000000</td>\n",
       "      <td>891.000000</td>\n",
       "      <td>891.000000</td>\n",
       "      <td>714.000000</td>\n",
       "      <td>891.000000</td>\n",
       "      <td>891.000000</td>\n",
       "      <td>891.000000</td>\n",
       "    </tr>\n",
       "    <tr>\n",
       "      <th>mean</th>\n",
       "      <td>446.000000</td>\n",
       "      <td>0.383838</td>\n",
       "      <td>2.308642</td>\n",
       "      <td>29.699118</td>\n",
       "      <td>0.523008</td>\n",
       "      <td>0.381594</td>\n",
       "      <td>32.204208</td>\n",
       "    </tr>\n",
       "    <tr>\n",
       "      <th>std</th>\n",
       "      <td>257.353842</td>\n",
       "      <td>0.486592</td>\n",
       "      <td>0.836071</td>\n",
       "      <td>14.526497</td>\n",
       "      <td>1.102743</td>\n",
       "      <td>0.806057</td>\n",
       "      <td>49.693429</td>\n",
       "    </tr>\n",
       "    <tr>\n",
       "      <th>min</th>\n",
       "      <td>1.000000</td>\n",
       "      <td>0.000000</td>\n",
       "      <td>1.000000</td>\n",
       "      <td>0.420000</td>\n",
       "      <td>0.000000</td>\n",
       "      <td>0.000000</td>\n",
       "      <td>0.000000</td>\n",
       "    </tr>\n",
       "    <tr>\n",
       "      <th>25%</th>\n",
       "      <td>223.500000</td>\n",
       "      <td>0.000000</td>\n",
       "      <td>2.000000</td>\n",
       "      <td>20.125000</td>\n",
       "      <td>0.000000</td>\n",
       "      <td>0.000000</td>\n",
       "      <td>7.910400</td>\n",
       "    </tr>\n",
       "    <tr>\n",
       "      <th>50%</th>\n",
       "      <td>446.000000</td>\n",
       "      <td>0.000000</td>\n",
       "      <td>3.000000</td>\n",
       "      <td>28.000000</td>\n",
       "      <td>0.000000</td>\n",
       "      <td>0.000000</td>\n",
       "      <td>14.454200</td>\n",
       "    </tr>\n",
       "    <tr>\n",
       "      <th>75%</th>\n",
       "      <td>668.500000</td>\n",
       "      <td>1.000000</td>\n",
       "      <td>3.000000</td>\n",
       "      <td>38.000000</td>\n",
       "      <td>1.000000</td>\n",
       "      <td>0.000000</td>\n",
       "      <td>31.000000</td>\n",
       "    </tr>\n",
       "    <tr>\n",
       "      <th>max</th>\n",
       "      <td>891.000000</td>\n",
       "      <td>1.000000</td>\n",
       "      <td>3.000000</td>\n",
       "      <td>80.000000</td>\n",
       "      <td>8.000000</td>\n",
       "      <td>6.000000</td>\n",
       "      <td>512.329200</td>\n",
       "    </tr>\n",
       "  </tbody>\n",
       "</table>\n",
       "</div>"
      ],
      "text/plain": [
       "       PassengerId    Survived      Pclass         Age       SibSp  \\\n",
       "count   891.000000  891.000000  891.000000  714.000000  891.000000   \n",
       "mean    446.000000    0.383838    2.308642   29.699118    0.523008   \n",
       "std     257.353842    0.486592    0.836071   14.526497    1.102743   \n",
       "min       1.000000    0.000000    1.000000    0.420000    0.000000   \n",
       "25%     223.500000    0.000000    2.000000   20.125000    0.000000   \n",
       "50%     446.000000    0.000000    3.000000   28.000000    0.000000   \n",
       "75%     668.500000    1.000000    3.000000   38.000000    1.000000   \n",
       "max     891.000000    1.000000    3.000000   80.000000    8.000000   \n",
       "\n",
       "            Parch        Fare  \n",
       "count  891.000000  891.000000  \n",
       "mean     0.381594   32.204208  \n",
       "std      0.806057   49.693429  \n",
       "min      0.000000    0.000000  \n",
       "25%      0.000000    7.910400  \n",
       "50%      0.000000   14.454200  \n",
       "75%      0.000000   31.000000  \n",
       "max      6.000000  512.329200  "
      ]
     },
     "execution_count": 21,
     "metadata": {},
     "output_type": "execute_result"
    }
   ],
   "source": [
    "df.describe()"
   ]
  },
  {
   "cell_type": "markdown",
   "metadata": {},
   "source": [
    "## 3. Perguntas\n",
    "Em conformidade com os dados pré-analisados, passa-se ao processo de brainstorm, com o intuito de formular perguntas relevantes acerca do fatores de sobrevivência dos passageiros.\n",
    "No conjunto de dados disponíveis, percebe que a análise pode ser realizada através de três agrupamentos:\n",
    "* Pessoal: sex (Sexo do passsageiro) e age (Idade do passageiro)\n",
    "* Familiar: sibsp (Número de irmãos e esposas abordo do návio) e parch (Número de pais e filhos abordo do návio)\n",
    "* Ecônomico: pclass (Categoria da passagem) e Fare (Custo da passagem)\n",
    "\n",
    "Assim sendo, dentre os fatores mais relevantes, se torna possível a elaboração das perguntas destacadas a seguir:\n",
    "\n",
    "1) O fator sexo tem correlação com uma taxa maior de sobrevivência do passageiro?\n",
    "\n",
    "2) Passageiros com idades mais tenras possuíram um índice maior de sobrevivência do que passageiros mais idosos?\n",
    "\n",
    "3) A classe da passagem resultou em uma chance maior de sobrevivência em comparação com os passageiros que possuíam passagens de classe menor?"
   ]
  },
  {
   "cell_type": "markdown",
   "metadata": {},
   "source": [
    "## 4. Limpeza dos dados"
   ]
  },
  {
   "cell_type": "markdown",
   "metadata": {},
   "source": [
    "Neste ponto, analisaremos como a estrutura de dados com o condão de identificar e sanar eventuais vetores que possam causar variabilidade indesejada nos resultados a serem apresentados. Após a identificação, buscar-se-á a melhor maneira de tratar os dados, seja descartando aqueles que não possuem uma relevância primária para esta análise ou completando àqueles que não possuírem muitas lacunas."
   ]
  },
  {
   "cell_type": "code",
   "execution_count": 22,
   "metadata": {},
   "outputs": [
    {
     "name": "stdout",
     "output_type": "stream",
     "text": [
      "<class 'pandas.core.frame.DataFrame'>\n",
      "RangeIndex: 891 entries, 0 to 890\n",
      "Data columns (total 12 columns):\n",
      "PassengerId    891 non-null int64\n",
      "Survived       891 non-null int64\n",
      "Pclass         891 non-null int64\n",
      "Name           891 non-null object\n",
      "Sex            891 non-null object\n",
      "Age            714 non-null float64\n",
      "SibSp          891 non-null int64\n",
      "Parch          891 non-null int64\n",
      "Ticket         891 non-null object\n",
      "Fare           891 non-null float64\n",
      "Cabin          204 non-null object\n",
      "Embarked       889 non-null object\n",
      "dtypes: float64(2), int64(5), object(5)\n",
      "memory usage: 83.6+ KB\n",
      "O número de linhas duplicadas são: 0\n"
     ]
    }
   ],
   "source": [
    "#Visualização geral da Dataframe\n",
    "df.info()\n",
    "print('O número de linhas duplicadas são: {}'.format(sum(df.duplicated())))"
   ]
  },
  {
   "cell_type": "markdown",
   "metadata": {},
   "source": [
    "Verificamos que a coluna \"Age\", \"Cabin\" e \"Embarked\" possuem alguns valores faltantes. Em razão da coluna \"Age\" ser relevante para as perguntas lançadas, bem assim, por não possuir tantos valores a serem preenchidos, utilizaremos a média dos valores para completar as lacunas. De outro lado, a coluna \"Cabin\", possui diversos valores a serem preenchidos e que apresentaria uma margem variável muito grande no caso do seu preenchimento, em virtude disto ela será descartada. Por fim, a coluna \"Embarked\", será anulada (preenchimento com o valor 0) para não causar desvios na análise."
   ]
  },
  {
   "cell_type": "code",
   "execution_count": 23,
   "metadata": {},
   "outputs": [],
   "source": [
    "# Inicialmente, serão convertidos os índices para letras mínusculas, a fim de facilitar futuras referências.\n",
    "df.rename(columns=lambda x: x.strip().lower(), inplace=True)\n",
    "\n",
    "# Preenchimento da coluna Embarked\n",
    "df['embarked'].fillna(df['embarked'].mode()[0], inplace = True)\n",
    "\n",
    "# Descartaremos as colunas que não serão relevantes para o escopo deste projeto.\n",
    "df.drop(['ticket', 'cabin', 'fare'], axis=1, inplace=True)\n",
    "\n",
    "# Em razão da coluna Age possuir alguns dados sem preenchimento, utilizaremos a média dos valores para resolver este impasse.\n",
    "df['age'].fillna(df['age'].mean(), inplace=True)\n",
    "\n",
    "# Salvando o dataframe com as alterações realizadas.\n",
    "df.to_csv('df_clean.csv', index=False)"
   ]
  },
  {
   "cell_type": "code",
   "execution_count": 24,
   "metadata": {},
   "outputs": [
    {
     "data": {
      "text/plain": [
       "passengerid    0\n",
       "survived       0\n",
       "pclass         0\n",
       "name           0\n",
       "sex            0\n",
       "age            0\n",
       "sibsp          0\n",
       "parch          0\n",
       "dtype: int64"
      ]
     },
     "execution_count": 24,
     "metadata": {},
     "output_type": "execute_result"
    }
   ],
   "source": [
    "#Conferência do DataFrame verificando se há algum valor nulo.\n",
    "df_titanic.isnull().sum()"
   ]
  },
  {
   "cell_type": "markdown",
   "metadata": {},
   "source": [
    "## 5. Análise"
   ]
  },
  {
   "cell_type": "code",
   "execution_count": 25,
   "metadata": {},
   "outputs": [],
   "source": [
    "# Para iniciar a análise, abriremos o dataframe com as modificações realizadas.\n",
    "df_titanic = pd.read_csv('df_clean.csv')"
   ]
  },
  {
   "cell_type": "markdown",
   "metadata": {},
   "source": [
    "## 1 - O fator sexo tem correlação com uma taxa maior de sobrevivência do passageiro?\n",
    "\n",
    "Para respondermos a primeira pergunta, necessitamos descobrir a quantidade de homens e mulheres existentes no návio."
   ]
  },
  {
   "cell_type": "code",
   "execution_count": 11,
   "metadata": {},
   "outputs": [
    {
     "name": "stdout",
     "output_type": "stream",
     "text": [
      "Homens: 577\n",
      "Mulheres: 314\n"
     ]
    }
   ],
   "source": [
    "print(\"Homens: {}\\nMulheres: {}\".format(sum(df_titanic['sex'] == 'male'), sum(df_titanic['sex'] == 'female')))"
   ]
  },
  {
   "cell_type": "code",
   "execution_count": 12,
   "metadata": {},
   "outputs": [],
   "source": [
    "#Criação de data frames separados para melhor consulta de dados específicos\n",
    "df_alive = df_titanic.query('survived == \"1\"')\n",
    "df_rip = df_titanic.query('survived == \"0\"')"
   ]
  },
  {
   "cell_type": "markdown",
   "metadata": {},
   "source": [
    "Agora, separaremos os gêneros entre sobreviventes e não sobreviventes para melhor compreender a resposta."
   ]
  },
  {
   "cell_type": "code",
   "execution_count": 13,
   "metadata": {},
   "outputs": [
    {
     "name": "stdout",
     "output_type": "stream",
     "text": [
      "Homens sobreviventes: 109\n",
      "Mulheres sobreviventes: 233\n",
      "Homens não sobreviventes: 468\n",
      "Mulheres não sobreviventes: 81\n"
     ]
    }
   ],
   "source": [
    "#Percepção numérica acerca dos dados\n",
    "print(\"Homens sobreviventes: {}\\nMulheres sobreviventes: {}\".format(sum(df_alive['sex'] == 'male'), sum(df_alive['sex'] == 'female')))\n",
    "print(\"Homens não sobreviventes: {}\\nMulheres não sobreviventes: {}\".format(sum(df_rip['sex'] == 'male'), sum(df_rip['sex'] == 'female')))"
   ]
  },
  {
   "cell_type": "markdown",
   "metadata": {},
   "source": [
    "Por fim, serão plotados os gráficos para uma visualização dos dados colhidos."
   ]
  },
  {
   "cell_type": "code",
   "execution_count": 14,
   "metadata": {},
   "outputs": [
    {
     "data": {
      "image/png": "[encoded data removed]",
      "text/plain": [
       "<Figure size 360x360 with 1 Axes>"
      ]
     },
     "metadata": {},
     "output_type": "display_data"
    }
   ],
   "source": [
    "#Plotagem do gráfico em relação aos sobreviventes.\n",
    "df_alive['sex'].value_counts().plot(kind='pie', figsize=(5,5), colors=['r', 'yellow'], title='Sobreviventes', fontsize=12, autopct='%1.1f%%', startangle=90);"
   ]
  },
  {
   "cell_type": "code",
   "execution_count": 15,
   "metadata": {},
   "outputs": [
    {
     "data": {
      "image/png": "[encoded data removed]",
      "text/plain": [
       "<Figure size 360x360 with 1 Axes>"
      ]
     },
     "metadata": {},
     "output_type": "display_data"
    }
   ],
   "source": [
    "#Plotagem do gráfico em relação aos não sobreviventes.\n",
    "df_rip['sex'].value_counts().plot(kind='pie', figsize=(5,5), colors=['g', 'orange'], title='Não sobreviventes', fontsize=12, autopct='%1.1f%%', startangle=90);"
   ]
  },
  {
   "cell_type": "markdown",
   "metadata": {},
   "source": [
    "Percebemos, desta forma, que dentre os passageiros catalogados, foram as mulheres que tiveram uma maior propensão a sobreviver."
   ]
  },
  {
   "cell_type": "markdown",
   "metadata": {},
   "source": [
    "## 2- Passageiros com idades mais tenras possuíram um índice maior de sobrevivência do que passageiros mais idosos?\n",
    "\n",
    "Na sequência, realizaremos a análise acerca da segunda pergunta do nosso questionário.\n",
    "\n",
    "Como no processo anterior, já criamos um dataframe específico para os sobreviventes, será realizado a análise gráfica de forma direta, com o intuito de verificar se os passageiros idosos tiveram um índice maior de sobrevivência dos que os mais jovens.\n",
    "\n",
    "Como é consabido, há uma preferência de salvamento de mulheres e crianças, logo seria possível afirmarmos que os passageiros de idades mais tenras possuíram um índice de sobrevivência maior que os passageiros idosos?"
   ]
  },
  {
   "cell_type": "code",
   "execution_count": 51,
   "metadata": {},
   "outputs": [
    {
     "data": {
      "text/html": [
       "<div>\n",
       "<style scoped>\n",
       "    .dataframe tbody tr th:only-of-type {\n",
       "        vertical-align: middle;\n",
       "    }\n",
       "\n",
       "    .dataframe tbody tr th {\n",
       "        vertical-align: top;\n",
       "    }\n",
       "\n",
       "    .dataframe thead th {\n",
       "        text-align: right;\n",
       "    }\n",
       "</style>\n",
       "<table border=\"1\" class=\"dataframe\">\n",
       "  <thead>\n",
       "    <tr style=\"text-align: right;\">\n",
       "      <th></th>\n",
       "      <th>count</th>\n",
       "      <th>mean</th>\n",
       "    </tr>\n",
       "    <tr>\n",
       "      <th>age</th>\n",
       "      <th></th>\n",
       "      <th></th>\n",
       "    </tr>\n",
       "  </thead>\n",
       "  <tbody>\n",
       "    <tr>\n",
       "      <th>criancas</th>\n",
       "      <td>45</td>\n",
       "      <td>4.959333</td>\n",
       "    </tr>\n",
       "    <tr>\n",
       "      <th>adultos</th>\n",
       "      <td>275</td>\n",
       "      <td>30.097651</td>\n",
       "    </tr>\n",
       "    <tr>\n",
       "      <th>idosos</th>\n",
       "      <td>22</td>\n",
       "      <td>57.454545</td>\n",
       "    </tr>\n",
       "  </tbody>\n",
       "</table>\n",
       "</div>"
      ],
      "text/plain": [
       "          count       mean\n",
       "age                       \n",
       "criancas     45   4.959333\n",
       "adultos     275  30.097651\n",
       "idosos       22  57.454545"
      ]
     },
     "execution_count": 51,
     "metadata": {},
     "output_type": "execute_result"
    }
   ],
   "source": [
    "#Categorização e contagem dos passageiros sobreviventes entre faixas de idades.\n",
    "faixa1 = pd.cut(df_alive[\"age\"], [0, 14, 50, 150], labels=[\"criancas\", \"adultos\", \"idosos\"])\n",
    "df_alive.groupby(faixa1)['age'].agg(['count', 'mean'])"
   ]
  },
  {
   "cell_type": "code",
   "execution_count": 50,
   "metadata": {},
   "outputs": [
    {
     "data": {
      "text/html": [
       "<div>\n",
       "<style scoped>\n",
       "    .dataframe tbody tr th:only-of-type {\n",
       "        vertical-align: middle;\n",
       "    }\n",
       "\n",
       "    .dataframe tbody tr th {\n",
       "        vertical-align: top;\n",
       "    }\n",
       "\n",
       "    .dataframe thead th {\n",
       "        text-align: right;\n",
       "    }\n",
       "</style>\n",
       "<table border=\"1\" class=\"dataframe\">\n",
       "  <thead>\n",
       "    <tr style=\"text-align: right;\">\n",
       "      <th></th>\n",
       "      <th>count</th>\n",
       "      <th>mean</th>\n",
       "    </tr>\n",
       "    <tr>\n",
       "      <th>age</th>\n",
       "      <th></th>\n",
       "      <th></th>\n",
       "    </tr>\n",
       "  </thead>\n",
       "  <tbody>\n",
       "    <tr>\n",
       "      <th>criancas</th>\n",
       "      <td>32</td>\n",
       "      <td>6.750000</td>\n",
       "    </tr>\n",
       "    <tr>\n",
       "      <th>adultos</th>\n",
       "      <td>475</td>\n",
       "      <td>29.448189</td>\n",
       "    </tr>\n",
       "    <tr>\n",
       "      <th>idosos</th>\n",
       "      <td>42</td>\n",
       "      <td>59.380952</td>\n",
       "    </tr>\n",
       "  </tbody>\n",
       "</table>\n",
       "</div>"
      ],
      "text/plain": [
       "          count       mean\n",
       "age                       \n",
       "criancas     32   6.750000\n",
       "adultos     475  29.448189\n",
       "idosos       42  59.380952"
      ]
     },
     "execution_count": 50,
     "metadata": {},
     "output_type": "execute_result"
    }
   ],
   "source": [
    "faixa2 = pd.cut(df_rip[\"age\"], [0, 14, 50, 150], labels=[\"criancas\", \"adultos\", \"idosos\"])\n",
    "df_rip.groupby(faixa2)['age'].agg(['count', 'mean'])"
   ]
  },
  {
   "cell_type": "code",
   "execution_count": 30,
   "metadata": {},
   "outputs": [
    {
     "data": {
      "text/plain": [
       "Text(0.5,1,'Faixas de idade')"
      ]
     },
     "execution_count": 30,
     "metadata": {},
     "output_type": "execute_result"
    },
    {
     "data": {
      "image/png": "[encoded data removed]",
      "text/plain": [
       "<Figure size 432x288 with 1 Axes>"
      ]
     },
     "metadata": {
      "needs_background": "light"
     },
     "output_type": "display_data"
    }
   ],
   "source": [
    "#Plotagem do gráfico em relação as faixas de idade em relação aos sobreviventes\n",
    "sns.kdeplot(df_alive[\"age\"][(df_alive[\"survived\"] == 1)])\n",
    "sns.set(rc={'figure.figsize':(5,5)})\n",
    "plt.ylabel('Quantidade')\n",
    "plt.xlabel('Idade')\n",
    "plt.title('Faixas de idade')"
   ]
  },
  {
   "cell_type": "code",
   "execution_count": 91,
   "metadata": {
    "scrolled": true
   },
   "outputs": [
    {
     "data": {
      "image/png": "[encoded data removed]",
      "text/plain": [
       "<Figure size 360x360 with 1 Axes>"
      ]
     },
     "metadata": {},
     "output_type": "display_data"
    }
   ],
   "source": [
    "#Plotagem de gráfico de barras com os valores adquiridos acima\n",
    "age_kid= [45, 32]\n",
    "age_adult = [275, 475]\n",
    "age_old = [22, 42]\n",
    "categoria = ['Sobreviventes', 'Não sobreviventes']\n",
    "\n",
    "pos = np.arange(2)\n",
    "tam = .35\n",
    "\n",
    "fig, ax = plt.subplots()\n",
    "plt1 = ax.bar(pos-tam/2, age_kid, tam, color='orange', label='Crianças')\n",
    "plt2 = ax.bar(pos-tam, age_adult, tam, color='green', label='Adultos')\n",
    "plt3 = ax.bar(pos+tam/2, age_old, tam, color='red', label='Idosos')\n",
    "\n",
    "ax.set_title('Contagem de pessoas por idade')\n",
    "ax.set_xlabel('Categoria de idade')\n",
    "ax.set_ylabel('Contagem de pessoas')\n",
    "\n",
    "ax.set_xticks(pos)\n",
    "ax.set_xticklabels(categoria, rotation=45, ha='right')\n",
    "ax.legend();\n"
   ]
  },
  {
   "cell_type": "markdown",
   "metadata": {},
   "source": [
    "Percebemos, portanto, que a faixa de passageiros classificados como crianças (idades entre 0 e 14 anos), possuíram o dobro de sobreviventes em relação aos passageiros idosos."
   ]
  },
  {
   "cell_type": "markdown",
   "metadata": {},
   "source": [
    "## 3 - Passageiros de classes maiores possuíram um índice melhor de sobrevivência em comparação com os passageiros que possuíam passagens de classe menor?"
   ]
  },
  {
   "cell_type": "code",
   "execution_count": 183,
   "metadata": {},
   "outputs": [
    {
     "name": "stdout",
     "output_type": "stream",
     "text": [
      "1ª classe: 216\n",
      "2ª classe: 184\n",
      "3ª classe: 491\n"
     ]
    }
   ],
   "source": [
    "#Total de passageiros por classe:\n",
    "print('1ª classe: {}'.format(sum(df_titanic['pclass'] == 1)))\n",
    "print('2ª classe: {}'.format(sum(df_titanic['pclass'] == 2)))\n",
    "print('3ª classe: {}'.format(sum(df_titanic['pclass'] == 3)))"
   ]
  },
  {
   "cell_type": "code",
   "execution_count": 15,
   "metadata": {},
   "outputs": [
    {
     "data": {
      "text/html": [
       "<div>\n",
       "<style scoped>\n",
       "    .dataframe tbody tr th:only-of-type {\n",
       "        vertical-align: middle;\n",
       "    }\n",
       "\n",
       "    .dataframe tbody tr th {\n",
       "        vertical-align: top;\n",
       "    }\n",
       "\n",
       "    .dataframe thead tr th {\n",
       "        text-align: left;\n",
       "    }\n",
       "\n",
       "    .dataframe thead tr:last-of-type th {\n",
       "        text-align: right;\n",
       "    }\n",
       "</style>\n",
       "<table border=\"1\" class=\"dataframe\">\n",
       "  <thead>\n",
       "    <tr>\n",
       "      <th></th>\n",
       "      <th></th>\n",
       "      <th colspan=\"8\" halign=\"left\">passengerid</th>\n",
       "    </tr>\n",
       "    <tr>\n",
       "      <th></th>\n",
       "      <th></th>\n",
       "      <th>count</th>\n",
       "      <th>mean</th>\n",
       "      <th>std</th>\n",
       "      <th>min</th>\n",
       "      <th>25%</th>\n",
       "      <th>50%</th>\n",
       "      <th>75%</th>\n",
       "      <th>max</th>\n",
       "    </tr>\n",
       "    <tr>\n",
       "      <th>survived</th>\n",
       "      <th>pclass</th>\n",
       "      <th></th>\n",
       "      <th></th>\n",
       "      <th></th>\n",
       "      <th></th>\n",
       "      <th></th>\n",
       "      <th></th>\n",
       "      <th></th>\n",
       "      <th></th>\n",
       "    </tr>\n",
       "  </thead>\n",
       "  <tbody>\n",
       "    <tr>\n",
       "      <th rowspan=\"3\" valign=\"top\">0</th>\n",
       "      <th>1</th>\n",
       "      <td>80.0</td>\n",
       "      <td>410.300000</td>\n",
       "      <td>252.655587</td>\n",
       "      <td>7.0</td>\n",
       "      <td>174.00</td>\n",
       "      <td>437.0</td>\n",
       "      <td>608.75</td>\n",
       "      <td>873.0</td>\n",
       "    </tr>\n",
       "    <tr>\n",
       "      <th>2</th>\n",
       "      <td>97.0</td>\n",
       "      <td>452.123711</td>\n",
       "      <td>257.771065</td>\n",
       "      <td>21.0</td>\n",
       "      <td>229.00</td>\n",
       "      <td>414.0</td>\n",
       "      <td>686.00</td>\n",
       "      <td>887.0</td>\n",
       "    </tr>\n",
       "    <tr>\n",
       "      <th>3</th>\n",
       "      <td>372.0</td>\n",
       "      <td>453.580645</td>\n",
       "      <td>263.090509</td>\n",
       "      <td>1.0</td>\n",
       "      <td>206.75</td>\n",
       "      <td>470.0</td>\n",
       "      <td>679.50</td>\n",
       "      <td>891.0</td>\n",
       "    </tr>\n",
       "    <tr>\n",
       "      <th rowspan=\"3\" valign=\"top\">1</th>\n",
       "      <th>1</th>\n",
       "      <td>136.0</td>\n",
       "      <td>491.772059</td>\n",
       "      <td>239.006988</td>\n",
       "      <td>2.0</td>\n",
       "      <td>307.75</td>\n",
       "      <td>510.5</td>\n",
       "      <td>693.50</td>\n",
       "      <td>890.0</td>\n",
       "    </tr>\n",
       "    <tr>\n",
       "      <th>2</th>\n",
       "      <td>87.0</td>\n",
       "      <td>439.080460</td>\n",
       "      <td>244.211937</td>\n",
       "      <td>10.0</td>\n",
       "      <td>254.00</td>\n",
       "      <td>441.0</td>\n",
       "      <td>612.50</td>\n",
       "      <td>881.0</td>\n",
       "    </tr>\n",
       "    <tr>\n",
       "      <th>3</th>\n",
       "      <td>119.0</td>\n",
       "      <td>394.058824</td>\n",
       "      <td>264.680245</td>\n",
       "      <td>3.0</td>\n",
       "      <td>169.50</td>\n",
       "      <td>359.0</td>\n",
       "      <td>633.50</td>\n",
       "      <td>876.0</td>\n",
       "    </tr>\n",
       "  </tbody>\n",
       "</table>\n",
       "</div>"
      ],
      "text/plain": [
       "                passengerid                                               \\\n",
       "                      count        mean         std   min     25%    50%   \n",
       "survived pclass                                                            \n",
       "0        1             80.0  410.300000  252.655587   7.0  174.00  437.0   \n",
       "         2             97.0  452.123711  257.771065  21.0  229.00  414.0   \n",
       "         3            372.0  453.580645  263.090509   1.0  206.75  470.0   \n",
       "1        1            136.0  491.772059  239.006988   2.0  307.75  510.5   \n",
       "         2             87.0  439.080460  244.211937  10.0  254.00  441.0   \n",
       "         3            119.0  394.058824  264.680245   3.0  169.50  359.0   \n",
       "\n",
       "                                \n",
       "                    75%    max  \n",
       "survived pclass                 \n",
       "0        1       608.75  873.0  \n",
       "         2       686.00  887.0  \n",
       "         3       679.50  891.0  \n",
       "1        1       693.50  890.0  \n",
       "         2       612.50  881.0  \n",
       "         3       633.50  876.0  "
      ]
     },
     "execution_count": 15,
     "metadata": {},
     "output_type": "execute_result"
    }
   ],
   "source": [
    "#Categorização dos passageiros no návio por sobreviventes e classes:\n",
    "df_class = df[['passengerid', 'survived', 'pclass']].groupby(['survived', 'pclass'])\n",
    "df_class.describe()"
   ]
  },
  {
   "cell_type": "code",
   "execution_count": 98,
   "metadata": {},
   "outputs": [
    {
     "name": "stdout",
     "output_type": "stream",
     "text": [
      "Sobreviventes da 1ª Classe: 62%\n",
      "Sobreviventes da 2ª Classe: 47%\n",
      "Sobreviventes da 3ª Classe: 24%\n"
     ]
    }
   ],
   "source": [
    "#Porcentagem de sobreviventes em cada uma das classes:\n",
    "class_total_one = sum(df_titanic['pclass'] == 1)\n",
    "class_total_two = sum(df_titanic['pclass'] == 2)\n",
    "class_total_three = sum(df_titanic['pclass'] == 3)\n",
    "\n",
    "class_one = df_alive.groupby('pclass')['survived'].count()[1]\n",
    "class_two = df_alive.groupby('pclass')['survived'].count()[2]\n",
    "class_three = df_alive.groupby('pclass')['survived'].count()[3]\n",
    "\n",
    "c1 = ((class_one/class_total_one)*100).astype(int)\n",
    "c2 = ((class_two/class_total_two)*100).astype(int)\n",
    "c3 = ((class_three/class_total_three)*100).astype(int)\n",
    "\n",
    "print('Sobreviventes da 1ª Classe: {}%\\nSobreviventes da 2ª Classe: {}%\\nSobreviventes da 3ª Classe: {}%'.format(c1, c2, c3))"
   ]
  },
  {
   "cell_type": "code",
   "execution_count": 103,
   "metadata": {},
   "outputs": [
    {
     "data": {
      "image/png": "[encoded data removed]",
      "text/plain": [
       "<Figure size 360x360 with 1 Axes>"
      ]
     },
     "metadata": {},
     "output_type": "display_data"
    }
   ],
   "source": [
    "#Plotagem do gráfico dos sobreviventes separados por classes dos bilhetes.\n",
    "objects = ('1ª Classe', '2ª Classe', '3ª Classe')\n",
    "y_pos = np.arange(len(objects))\n",
    "scale = (c1, c2, c3)\n",
    "\n",
    "\n",
    "plt.bar(y_pos, scale, align='center', alpha=0.5)\n",
    "plt.xticks(y_pos, objects)\n",
    "plt.ylabel('Passageiros Sobreviventes por Classe (%)')\n",
    "plt.title('Sobreviventes por classe')\n",
    "\n",
    "plt.show()"
   ]
  },
  {
   "cell_type": "markdown",
   "metadata": {},
   "source": [
    "## Considerações Finais\n",
    "\n",
    "Dentre os dados analisados neste projeto foi possível denotar:\n",
    "\n",
    "* O número de mulheres sobreviventes (68,1%) foi maior em relação aos homens (31,9%);\n",
    "* Os passageiros de idades mais tenras possuíram um índice sobrevivência muito maior (45 passageiros) do que os passageiros idosos (22 passageiros).\n",
    "* Dentre as três classes de bilhetes existentes, os passageiros que possuiam bilhetes de classe superior(Classe 1) tiveram uma margem de 67% de sobreviventes, enquanto, passageiros com bilhetes de classes inferiors (Classes 2 e 3), possuíram uma margem de 47% e 24% de sobreviventes, respectivamente. Levando a crer que aqueles com maiores posses possuíram mais recursos de sobrevivência que os demais.\n"
   ]
  },
  {
   "cell_type": "markdown",
   "metadata": {},
   "source": [
    "## Limitações\n",
    "\n",
    "Neste projeto, alcançamos respostas aproximadas para perguntas sucitadas, isso se dá em razão de que, para uma completitude e maior precisão da análise, necessário se faz que o preenchimento completo de determinados dados. A título de exemplo, cita-se que a coluna *Age* possui muitas lacunas (estas resolvidas através da utilização da media), bem assim quanto às colunas *Embarked* e *Cabin*, o que torna as respostas discutíveis por certa margem."
   ]
  },
  {
   "cell_type": "markdown",
   "metadata": {},
   "source": [
    "## Bibliografia\n",
    "https://www.kaggle.com/c/titanic/data\n",
    "\n",
    "https://www.kaggle.com/c/titanic/discussion/82206\n",
    "\n",
    "https://pythonspot.com/matplotlib-bar-chart/\n",
    "\n",
    "http://www.numpy.org/\n",
    "\n",
    "https://seaborn.pydata.org/\n",
    "\n",
    "https://seaborn.pydata.org/generated/seaborn.kdeplot.html\n",
    "\n",
    "https://github.com/adam-p/markdown-here/wiki/Markdown-Cheatsheet\n",
    "\n",
    "https://www.youtube.com/watch?v=LlZfROkcM88&feature=youtu.be\n"
   ]
  },
  {
   "cell_type": "code",
   "execution_count": null,
   "metadata": {},
   "outputs": [],
   "source": []
  }
 ],
 "metadata": {
  "kernelspec": {
   "display_name": "Python 3",
   "language": "python",
   "name": "python3"
  },
  "language_info": {
   "codemirror_mode": {
    "name": "ipython",
    "version": 3
   },
   "file_extension": ".py",
   "mimetype": "text/x-python",
   "name": "python",
   "nbconvert_exporter": "python",
   "pygments_lexer": "ipython3",
   "version": "3.7.0"
  }
 },
 "nbformat": 4,
 "nbformat_minor": 2
}
